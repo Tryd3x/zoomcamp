{
 "cells": [
  {
   "cell_type": "code",
   "execution_count": 6,
   "metadata": {},
   "outputs": [
    {
     "data": {
      "text/html": [
       "\n",
       "            <div>\n",
       "                <p><b>SparkSession - in-memory</b></p>\n",
       "                \n",
       "        <div>\n",
       "            <p><b>SparkContext</b></p>\n",
       "\n",
       "            <p><a href=\"http://10.255.255.254:4040\">Spark UI</a></p>\n",
       "\n",
       "            <dl>\n",
       "              <dt>Version</dt>\n",
       "                <dd><code>v3.4.3</code></dd>\n",
       "              <dt>Master</dt>\n",
       "                <dd><code>local[*]</code></dd>\n",
       "              <dt>AppName</dt>\n",
       "                <dd><code>test</code></dd>\n",
       "            </dl>\n",
       "        </div>\n",
       "        \n",
       "            </div>\n",
       "        "
      ],
      "text/plain": [
       "<pyspark.sql.session.SparkSession at 0x7f49997c6be0>"
      ]
     },
     "execution_count": 6,
     "metadata": {},
     "output_type": "execute_result"
    }
   ],
   "source": [
    "import pyspark\n",
    "from pyspark.sql import SparkSession\n",
    "\n",
    "spark = SparkSession.builder \\\n",
    "    .master(\"local[*]\") \\\n",
    "    .appName('test') \\\n",
    "    .getOrCreate()\n",
    "spark"
   ]
  },
  {
   "cell_type": "code",
   "execution_count": 3,
   "metadata": {},
   "outputs": [
    {
     "name": "stdout",
     "output_type": "stream",
     "text": [
      "+--------+--------------------+---------------------+------------------+----------+------------+------------+---------------+-------------+-----------+-----+-------+----------+------------+---------+---------------------+------------+------------+---------+--------------------+\n",
      "|VendorID|lpep_pickup_datetime|lpep_dropoff_datetime|store_and_fwd_flag|RatecodeID|PULocationID|DOLocationID|passenger_count|trip_distance|fare_amount|extra|mta_tax|tip_amount|tolls_amount|ehail_fee|improvement_surcharge|total_amount|payment_type|trip_type|congestion_surcharge|\n",
      "+--------+--------------------+---------------------+------------------+----------+------------+------------+---------------+-------------+-----------+-----+-------+----------+------------+---------+---------------------+------------+------------+---------+--------------------+\n",
      "|       2| 2020-01-11 04:05:54|  2020-01-11 04:13:49|                 N|       1.0|         129|         129|            1.0|         0.81|        6.5|  0.5|    0.5|      0.71|         0.0|     null|                  0.3|        8.51|         1.0|      1.0|                 0.0|\n",
      "|       2| 2020-01-07 19:34:40|  2020-01-07 19:43:01|                 N|       1.0|          82|          56|            1.0|         1.25|        7.0|  1.0|    0.5|       0.0|         0.0|     null|                  0.3|         8.8|         2.0|      1.0|                 0.0|\n",
      "|       2| 2020-01-15 19:07:07|  2020-01-15 19:12:56|                 N|       1.0|          75|          75|            1.0|         0.88|        5.5|  1.0|    0.5|      1.46|         0.0|     null|                  0.3|        8.76|         1.0|      1.0|                 0.0|\n",
      "|       2| 2020-01-27 17:26:04|  2020-01-27 17:31:29|                 N|       1.0|         210|         108|            1.0|         1.52|        7.0|  1.0|    0.5|      2.64|         0.0|     null|                  0.3|       11.44|         1.0|      1.0|                 0.0|\n",
      "|       2| 2020-01-19 12:18:31|  2020-01-19 12:23:29|                 N|       1.0|         129|         129|            1.0|         0.58|        5.0|  0.0|    0.5|       0.0|         0.0|     null|                  0.3|         5.8|         2.0|      1.0|                 0.0|\n",
      "+--------+--------------------+---------------------+------------------+----------+------------+------------+---------------+-------------+-----------+-----+-------+----------+------------+---------+---------------------+------------+------------+---------+--------------------+\n",
      "only showing top 5 rows\n",
      "\n"
     ]
    }
   ],
   "source": [
    "df_green = spark.read.parquet('../datasets/pq/green/*/*')\n",
    "df_green.show(5)"
   ]
  },
  {
   "cell_type": "code",
   "execution_count": 7,
   "metadata": {},
   "outputs": [],
   "source": [
    "df_green.createOrReplaceTempView('green')"
   ]
  },
  {
   "cell_type": "code",
   "execution_count": 24,
   "metadata": {},
   "outputs": [
    {
     "name": "stdout",
     "output_type": "stream",
     "text": [
      "+-------------------+----+------------------+--------------+\n",
      "|               hour|zone|            amount|number_records|\n",
      "+-------------------+----+------------------+--------------+\n",
      "|2020-01-17 21:00:00|  42| 446.7500000000002|            35|\n",
      "|2020-01-16 07:00:00|  82| 78.36999999999999|             7|\n",
      "|2020-01-26 12:00:00| 181|120.53000000000002|             7|\n",
      "|2020-01-08 04:00:00| 116|             48.45|             4|\n",
      "|2020-01-18 15:00:00|   7|307.06000000000006|            26|\n",
      "|2020-01-16 18:00:00| 193|             60.22|             7|\n",
      "|2020-01-10 14:00:00|  74| 782.1399999999995|            65|\n",
      "|2020-01-14 15:00:00| 179|             98.72|             4|\n",
      "|2020-01-13 07:00:00|   7|139.98000000000002|             6|\n",
      "|2020-01-12 08:00:00|  74|            522.91|            26|\n",
      "|2020-01-17 14:00:00| 129|321.17000000000013|            22|\n",
      "|2020-01-28 19:00:00|  66| 533.9200000000001|            24|\n",
      "|2020-01-05 13:00:00| 173| 94.00999999999999|             4|\n",
      "|2020-01-02 17:00:00|  52|            113.46|            11|\n",
      "|2020-01-19 14:00:00|  52|53.839999999999996|             6|\n",
      "|2020-01-16 07:00:00| 130|209.15000000000003|             9|\n",
      "|2020-01-15 21:00:00|  65|251.47000000000006|            18|\n",
      "|2020-01-07 12:00:00|  17|106.67999999999999|             5|\n",
      "|2020-01-03 08:00:00|   7|416.79000000000013|            30|\n",
      "|2020-01-23 13:00:00| 115|             65.54|             1|\n",
      "+-------------------+----+------------------+--------------+\n",
      "only showing top 20 rows\n",
      "\n"
     ]
    }
   ],
   "source": [
    "# Perfrom groupby aggregation to obtain analytical insights\n",
    "df_green_revenue = spark.sql(\"\"\"\n",
    "SELECT \n",
    "    date_trunc('hour', lpep_pickup_datetime) AS hour, \n",
    "    PULocationID AS zone,\n",
    "    SUM(total_amount) AS amount,\n",
    "    COUNT(1) AS number_records\n",
    "FROM\n",
    "    green\n",
    "WHERE\n",
    "    lpep_pickup_datetime >= '2020-01-01 00:00:00'\n",
    "GROUP BY\n",
    "    1, 2\n",
    "-- ORDER BY\n",
    "--     1, 2\n",
    "\"\"\")\n",
    "\n",
    "df_green_revenue.show()"
   ]
  },
  {
   "cell_type": "code",
   "execution_count": 25,
   "metadata": {},
   "outputs": [
    {
     "data": {
      "text/plain": [
       "18"
      ]
     },
     "execution_count": 25,
     "metadata": {},
     "output_type": "execute_result"
    }
   ],
   "source": [
    "df_green_revenue.rdd.getNumPartitions()"
   ]
  },
  {
   "cell_type": "code",
   "execution_count": 28,
   "metadata": {},
   "outputs": [
    {
     "name": "stderr",
     "output_type": "stream",
     "text": [
      "25/04/02 19:27:05 WARN MemoryManager: Total allocation exceeds 95.00% (1,020,054,720 bytes) of heap memory\n",
      "Scaling row group sizes to 95.00% for 8 writers\n",
      "25/04/02 19:27:05 WARN MemoryManager: Total allocation exceeds 95.00% (1,020,054,720 bytes) of heap memory\n",
      "Scaling row group sizes to 84.44% for 9 writers\n",
      "25/04/02 19:27:05 WARN MemoryManager: Total allocation exceeds 95.00% (1,020,054,720 bytes) of heap memory\n",
      "Scaling row group sizes to 76.00% for 10 writers\n",
      "25/04/02 19:27:05 WARN MemoryManager: Total allocation exceeds 95.00% (1,020,054,720 bytes) of heap memory\n",
      "Scaling row group sizes to 69.09% for 11 writers\n",
      "25/04/02 19:27:05 WARN MemoryManager: Total allocation exceeds 95.00% (1,020,054,720 bytes) of heap memory\n",
      "Scaling row group sizes to 63.33% for 12 writers\n",
      "25/04/02 19:27:05 WARN MemoryManager: Total allocation exceeds 95.00% (1,020,054,720 bytes) of heap memory\n",
      "Scaling row group sizes to 58.46% for 13 writers\n",
      "25/04/02 19:27:05 WARN MemoryManager: Total allocation exceeds 95.00% (1,020,054,720 bytes) of heap memory\n",
      "Scaling row group sizes to 54.29% for 14 writers\n",
      "25/04/02 19:27:05 WARN MemoryManager: Total allocation exceeds 95.00% (1,020,054,720 bytes) of heap memory\n",
      "Scaling row group sizes to 50.67% for 15 writers\n",
      "25/04/02 19:27:05 WARN MemoryManager: Total allocation exceeds 95.00% (1,020,054,720 bytes) of heap memory\n",
      "Scaling row group sizes to 47.50% for 16 writers\n",
      "25/04/02 19:27:05 WARN MemoryManager: Total allocation exceeds 95.00% (1,020,054,720 bytes) of heap memory\n",
      "Scaling row group sizes to 44.71% for 17 writers\n",
      "25/04/02 19:27:05 WARN MemoryManager: Total allocation exceeds 95.00% (1,020,054,720 bytes) of heap memory\n",
      "Scaling row group sizes to 42.22% for 18 writers\n",
      "25/04/02 19:27:05 WARN MemoryManager: Total allocation exceeds 95.00% (1,020,054,720 bytes) of heap memory\n",
      "Scaling row group sizes to 40.00% for 19 writers\n",
      "25/04/02 19:27:05 WARN MemoryManager: Total allocation exceeds 95.00% (1,020,054,720 bytes) of heap memory\n",
      "Scaling row group sizes to 38.00% for 20 writers\n",
      "25/04/02 19:27:05 WARN MemoryManager: Total allocation exceeds 95.00% (1,020,054,720 bytes) of heap memory\n",
      "Scaling row group sizes to 40.00% for 19 writers\n",
      "25/04/02 19:27:05 WARN MemoryManager: Total allocation exceeds 95.00% (1,020,054,720 bytes) of heap memory\n",
      "Scaling row group sizes to 42.22% for 18 writers\n",
      "25/04/02 19:27:05 WARN MemoryManager: Total allocation exceeds 95.00% (1,020,054,720 bytes) of heap memory\n",
      "Scaling row group sizes to 44.71% for 17 writers\n",
      "25/04/02 19:27:05 WARN MemoryManager: Total allocation exceeds 95.00% (1,020,054,720 bytes) of heap memory\n",
      "Scaling row group sizes to 47.50% for 16 writers\n",
      "25/04/02 19:27:05 WARN MemoryManager: Total allocation exceeds 95.00% (1,020,054,720 bytes) of heap memory\n",
      "Scaling row group sizes to 50.67% for 15 writers\n",
      "25/04/02 19:27:05 WARN MemoryManager: Total allocation exceeds 95.00% (1,020,054,720 bytes) of heap memory\n",
      "Scaling row group sizes to 54.29% for 14 writers\n",
      "25/04/02 19:27:05 WARN MemoryManager: Total allocation exceeds 95.00% (1,020,054,720 bytes) of heap memory\n",
      "Scaling row group sizes to 58.46% for 13 writers\n",
      "25/04/02 19:27:05 WARN MemoryManager: Total allocation exceeds 95.00% (1,020,054,720 bytes) of heap memory\n",
      "Scaling row group sizes to 63.33% for 12 writers\n",
      "25/04/02 19:27:05 WARN MemoryManager: Total allocation exceeds 95.00% (1,020,054,720 bytes) of heap memory\n",
      "Scaling row group sizes to 69.09% for 11 writers\n",
      "25/04/02 19:27:05 WARN MemoryManager: Total allocation exceeds 95.00% (1,020,054,720 bytes) of heap memory\n",
      "Scaling row group sizes to 76.00% for 10 writers\n",
      "25/04/02 19:27:05 WARN MemoryManager: Total allocation exceeds 95.00% (1,020,054,720 bytes) of heap memory\n",
      "Scaling row group sizes to 84.44% for 9 writers\n",
      "25/04/02 19:27:05 WARN MemoryManager: Total allocation exceeds 95.00% (1,020,054,720 bytes) of heap memory\n",
      "Scaling row group sizes to 95.00% for 8 writers\n",
      "                                                                                \r"
     ]
    }
   ],
   "source": [
    "# Store analytical insights as file\n",
    "df_green_revenue \\\n",
    "    .repartition(20) \\\n",
    "    .write \\\n",
    "    .parquet(\"../datasets/report/revenue/green\", mode='overwrite')"
   ]
  },
  {
   "cell_type": "code",
   "execution_count": 31,
   "metadata": {},
   "outputs": [],
   "source": [
    "df_yellow = spark.read.parquet('../datasets/pq/yellow/*/*')\n",
    "df_yellow.createOrReplaceTempView('yellow')"
   ]
  },
  {
   "cell_type": "code",
   "execution_count": 32,
   "metadata": {},
   "outputs": [
    {
     "name": "stderr",
     "output_type": "stream",
     "text": [
      "25/04/02 19:30:38 WARN RowBasedKeyValueBatch: Calling spill() on RowBasedKeyValueBatch. Will not spill but return 0.\n",
      "25/04/02 19:30:38 WARN RowBasedKeyValueBatch: Calling spill() on RowBasedKeyValueBatch. Will not spill but return 0.\n",
      "[Stage 68:============================>                          (11 + 10) / 21]\r"
     ]
    },
    {
     "name": "stdout",
     "output_type": "stream",
     "text": [
      "+-------------------+----+------------------+--------------+\n",
      "|               hour|zone|            amount|number_records|\n",
      "+-------------------+----+------------------+--------------+\n",
      "|2020-01-26 16:00:00| 142| 5927.010000000004|           383|\n",
      "|2020-01-06 10:00:00| 236| 8045.710000000017|           568|\n",
      "|2020-01-06 16:00:00| 138|17057.700000000008|           379|\n",
      "|2020-01-16 12:00:00|  48| 3903.909999999998|           240|\n",
      "|2020-01-21 15:00:00| 209|            703.93|            23|\n",
      "|2020-01-23 10:00:00| 263|3526.0399999999972|           243|\n",
      "|2020-01-07 07:00:00| 249|2012.3399999999988|           137|\n",
      "|2020-01-28 13:00:00| 238|3496.9699999999984|           239|\n",
      "|2020-01-17 08:00:00|  50| 2093.599999999999|           118|\n",
      "|2020-01-13 09:00:00| 249|3403.5899999999997|           224|\n",
      "|2020-01-26 19:00:00| 132| 26727.00999999997|           531|\n",
      "|2020-01-20 14:00:00| 262| 2293.789999999999|           144|\n",
      "|2020-01-04 09:00:00| 239| 3085.389999999997|           232|\n",
      "|2020-01-24 07:00:00| 237| 7690.430000000017|           531|\n",
      "|2020-01-29 11:00:00| 264|           1238.46|            65|\n",
      "|2020-01-21 11:00:00| 179|            100.49|             7|\n",
      "|2020-01-26 23:00:00|  79| 2809.949999999998|           162|\n",
      "|2020-01-02 07:00:00|  50|1247.3999999999996|            76|\n",
      "|2020-01-16 02:00:00| 163| 530.2700000000001|            22|\n",
      "|2020-01-19 02:00:00| 114| 5878.220000000007|           361|\n",
      "+-------------------+----+------------------+--------------+\n",
      "only showing top 20 rows\n",
      "\n"
     ]
    },
    {
     "name": "stderr",
     "output_type": "stream",
     "text": [
      "                                                                                \r"
     ]
    }
   ],
   "source": [
    "df_yellow_revenue = spark.sql(\"\"\"\n",
    "SELECT \n",
    "    date_trunc('hour', tpep_pickup_datetime) AS hour, \n",
    "    PULocationID AS zone,\n",
    "    SUM(total_amount) AS amount,\n",
    "    COUNT(1) AS number_records\n",
    "FROM\n",
    "    yellow\n",
    "WHERE\n",
    "    tpep_pickup_datetime >= '2020-01-01 00:00:00'\n",
    "GROUP BY\n",
    "    1, 2\n",
    "\"\"\")\n",
    "\n",
    "df_yellow_revenue.show()"
   ]
  },
  {
   "cell_type": "code",
   "execution_count": 33,
   "metadata": {},
   "outputs": [
    {
     "name": "stderr",
     "output_type": "stream",
     "text": [
      "25/04/02 19:30:52 WARN RowBasedKeyValueBatch: Calling spill() on RowBasedKeyValueBatch. Will not spill but return 0.\n",
      "25/04/02 19:30:53 WARN RowBasedKeyValueBatch: Calling spill() on RowBasedKeyValueBatch. Will not spill but return 0.\n",
      "25/04/02 19:30:55 WARN MemoryManager: Total allocation exceeds 95.00% (1,020,054,720 bytes) of heap memory\n",
      "Scaling row group sizes to 95.00% for 8 writers\n",
      "25/04/02 19:30:55 WARN MemoryManager: Total allocation exceeds 95.00% (1,020,054,720 bytes) of heap memory\n",
      "Scaling row group sizes to 84.44% for 9 writers\n",
      "25/04/02 19:30:55 WARN MemoryManager: Total allocation exceeds 95.00% (1,020,054,720 bytes) of heap memory\n",
      "Scaling row group sizes to 76.00% for 10 writers\n",
      "25/04/02 19:30:55 WARN MemoryManager: Total allocation exceeds 95.00% (1,020,054,720 bytes) of heap memory\n",
      "Scaling row group sizes to 69.09% for 11 writers\n",
      "25/04/02 19:30:55 WARN MemoryManager: Total allocation exceeds 95.00% (1,020,054,720 bytes) of heap memory\n",
      "Scaling row group sizes to 63.33% for 12 writers\n",
      "25/04/02 19:30:55 WARN MemoryManager: Total allocation exceeds 95.00% (1,020,054,720 bytes) of heap memory\n",
      "Scaling row group sizes to 58.46% for 13 writers\n",
      "25/04/02 19:30:55 WARN MemoryManager: Total allocation exceeds 95.00% (1,020,054,720 bytes) of heap memory\n",
      "Scaling row group sizes to 54.29% for 14 writers\n",
      "25/04/02 19:30:55 WARN MemoryManager: Total allocation exceeds 95.00% (1,020,054,720 bytes) of heap memory\n",
      "Scaling row group sizes to 50.67% for 15 writers\n",
      "25/04/02 19:30:55 WARN MemoryManager: Total allocation exceeds 95.00% (1,020,054,720 bytes) of heap memory\n",
      "Scaling row group sizes to 47.50% for 16 writers\n",
      "25/04/02 19:30:55 WARN MemoryManager: Total allocation exceeds 95.00% (1,020,054,720 bytes) of heap memory\n",
      "Scaling row group sizes to 44.71% for 17 writers\n",
      "25/04/02 19:30:55 WARN MemoryManager: Total allocation exceeds 95.00% (1,020,054,720 bytes) of heap memory\n",
      "Scaling row group sizes to 42.22% for 18 writers\n",
      "25/04/02 19:30:55 WARN MemoryManager: Total allocation exceeds 95.00% (1,020,054,720 bytes) of heap memory\n",
      "Scaling row group sizes to 40.00% for 19 writers\n",
      "25/04/02 19:30:55 WARN MemoryManager: Total allocation exceeds 95.00% (1,020,054,720 bytes) of heap memory\n",
      "Scaling row group sizes to 38.00% for 20 writers\n",
      "25/04/02 19:30:55 WARN MemoryManager: Total allocation exceeds 95.00% (1,020,054,720 bytes) of heap memory\n",
      "Scaling row group sizes to 40.00% for 19 writers\n",
      "25/04/02 19:30:55 WARN MemoryManager: Total allocation exceeds 95.00% (1,020,054,720 bytes) of heap memory\n",
      "Scaling row group sizes to 42.22% for 18 writers\n",
      "25/04/02 19:30:55 WARN MemoryManager: Total allocation exceeds 95.00% (1,020,054,720 bytes) of heap memory\n",
      "Scaling row group sizes to 44.71% for 17 writers\n",
      "25/04/02 19:30:55 WARN MemoryManager: Total allocation exceeds 95.00% (1,020,054,720 bytes) of heap memory\n",
      "Scaling row group sizes to 47.50% for 16 writers\n",
      "25/04/02 19:30:55 WARN MemoryManager: Total allocation exceeds 95.00% (1,020,054,720 bytes) of heap memory\n",
      "Scaling row group sizes to 50.67% for 15 writers\n",
      "25/04/02 19:30:55 WARN MemoryManager: Total allocation exceeds 95.00% (1,020,054,720 bytes) of heap memory\n",
      "Scaling row group sizes to 54.29% for 14 writers\n",
      "25/04/02 19:30:55 WARN MemoryManager: Total allocation exceeds 95.00% (1,020,054,720 bytes) of heap memory\n",
      "Scaling row group sizes to 58.46% for 13 writers\n",
      "25/04/02 19:30:55 WARN MemoryManager: Total allocation exceeds 95.00% (1,020,054,720 bytes) of heap memory\n",
      "Scaling row group sizes to 63.33% for 12 writers\n",
      "25/04/02 19:30:55 WARN MemoryManager: Total allocation exceeds 95.00% (1,020,054,720 bytes) of heap memory\n",
      "Scaling row group sizes to 69.09% for 11 writers\n",
      "25/04/02 19:30:55 WARN MemoryManager: Total allocation exceeds 95.00% (1,020,054,720 bytes) of heap memory\n",
      "Scaling row group sizes to 76.00% for 10 writers\n",
      "25/04/02 19:30:55 WARN MemoryManager: Total allocation exceeds 95.00% (1,020,054,720 bytes) of heap memory\n",
      "Scaling row group sizes to 84.44% for 9 writers\n",
      "25/04/02 19:30:55 WARN MemoryManager: Total allocation exceeds 95.00% (1,020,054,720 bytes) of heap memory\n",
      "Scaling row group sizes to 95.00% for 8 writers\n",
      "                                                                                \r"
     ]
    }
   ],
   "source": [
    "df_yellow_revenue \\\n",
    "    .repartition(20) \\\n",
    "    .write.parquet('../datasets/report/revenue/yellow', mode='overwrite')"
   ]
  },
  {
   "cell_type": "code",
   "execution_count": 34,
   "metadata": {},
   "outputs": [],
   "source": [
    "# Loading reports data\n",
    "\n",
    "df_green_revenue = spark.read.parquet('../datasets/report/revenue/green')\n",
    "df_yellow_revenue = spark.read.parquet('../datasets/report/revenue/yellow')"
   ]
  },
  {
   "cell_type": "code",
   "execution_count": null,
   "metadata": {},
   "outputs": [],
   "source": [
    "# Renaming columns before join\n",
    "\n",
    "df_green_revenue_tmp = df_green_revenue \\\n",
    "    .withColumnRenamed('amount', 'green_amount') \\\n",
    "    .withColumnRenamed('number_records', 'green_number_records')\n",
    "\n",
    "df_yellow_revenue_tmp = df_yellow_revenue \\\n",
    "    .withColumnRenamed('amount', 'yellow_amount') \\\n",
    "    .withColumnRenamed('number_records', 'yellow_number_records')"
   ]
  },
  {
   "cell_type": "code",
   "execution_count": null,
   "metadata": {},
   "outputs": [
    {
     "name": "stdout",
     "output_type": "stream",
     "text": [
      "+-------------------+----+------------------+--------------------+------------------+---------------------+\n",
      "|               hour|zone|      green_amount|green_number_records|     yellow_amount|yellow_number_records|\n",
      "+-------------------+----+------------------+--------------------+------------------+---------------------+\n",
      "|2020-01-01 00:00:00|  10|              null|                null|             42.41|                    2|\n",
      "|2020-01-01 00:00:00|  43|            107.52|                   6| 6539.510000000011|                  390|\n",
      "|2020-01-01 00:00:00|  52|             83.33|                   4|              49.8|                    2|\n",
      "|2020-01-01 00:00:00|  70|54.900000000000006|                   3|               9.3|                    1|\n",
      "|2020-01-01 00:00:00|  88|              null|                null| 823.8000000000001|                   36|\n",
      "|2020-01-01 00:00:00| 140|              null|                null| 2268.909999999998|                  138|\n",
      "|2020-01-01 00:00:00| 179|             87.32|                   5|213.29000000000002|                   10|\n",
      "|2020-01-01 00:00:00| 238|              null|                null| 5232.560000000003|                  332|\n",
      "|2020-01-01 00:00:00| 256|            296.62|                  13|            451.51|                   22|\n",
      "|2020-01-01 01:00:00|   7| 690.2099999999997|                  42|           1004.71|                   62|\n",
      "|2020-01-01 01:00:00|  13|              null|                null|1569.2399999999996|                   66|\n",
      "|2020-01-01 01:00:00|  14|             68.83|                   3|             42.81|                    3|\n",
      "|2020-01-01 01:00:00|  16| 72.96000000000001|                   2|              43.0|                    1|\n",
      "|2020-01-01 01:00:00|  29|             32.04|                   2|              27.0|                    1|\n",
      "|2020-01-01 01:00:00|  40|177.16000000000003|                   6|313.53999999999996|                   15|\n",
      "|2020-01-01 01:00:00|  48|              null|                null| 12848.59000000004|                  607|\n",
      "|2020-01-01 01:00:00| 106|116.03000000000002|                   5|            205.61|                    7|\n",
      "|2020-01-01 01:00:00| 112|379.46999999999997|                  20|           1080.18|                   50|\n",
      "|2020-01-01 01:00:00| 134|             34.86|                   4|              9.75|                    1|\n",
      "|2020-01-01 01:00:00| 161|              null|                null| 9189.140000000023|                  483|\n",
      "+-------------------+----+------------------+--------------------+------------------+---------------------+\n",
      "only showing top 20 rows\n",
      "\n"
     ]
    }
   ],
   "source": [
    "# Performing join between yellow and green on hour and zone\n",
    "\n",
    "df_join = df_green_revenue_tmp.join(df_yellow_revenue_tmp, on=['hour', 'zone'], how='outer')\n",
    "df_join.show()"
   ]
  },
  {
   "cell_type": "code",
   "execution_count": 39,
   "metadata": {},
   "outputs": [
    {
     "data": {
      "text/plain": [
       "21"
      ]
     },
     "execution_count": 39,
     "metadata": {},
     "output_type": "execute_result"
    }
   ],
   "source": [
    "# Number of Partitions assigned to df_join\n",
    "df_join.rdd.getNumPartitions()"
   ]
  },
  {
   "cell_type": "code",
   "execution_count": 40,
   "metadata": {},
   "outputs": [
    {
     "name": "stderr",
     "output_type": "stream",
     "text": [
      "25/04/02 19:36:33 WARN MemoryManager: Total allocation exceeds 95.00% (1,020,054,720 bytes) of heap memory\n",
      "Scaling row group sizes to 95.00% for 8 writers\n",
      "25/04/02 19:36:33 WARN MemoryManager: Total allocation exceeds 95.00% (1,020,054,720 bytes) of heap memory\n",
      "Scaling row group sizes to 84.44% for 9 writers\n",
      "25/04/02 19:36:33 WARN MemoryManager: Total allocation exceeds 95.00% (1,020,054,720 bytes) of heap memory\n",
      "Scaling row group sizes to 76.00% for 10 writers\n",
      "25/04/02 19:36:33 WARN MemoryManager: Total allocation exceeds 95.00% (1,020,054,720 bytes) of heap memory\n",
      "Scaling row group sizes to 69.09% for 11 writers\n",
      "25/04/02 19:36:33 WARN MemoryManager: Total allocation exceeds 95.00% (1,020,054,720 bytes) of heap memory\n",
      "Scaling row group sizes to 63.33% for 12 writers\n",
      "25/04/02 19:36:33 WARN MemoryManager: Total allocation exceeds 95.00% (1,020,054,720 bytes) of heap memory\n",
      "Scaling row group sizes to 58.46% for 13 writers\n",
      "25/04/02 19:36:33 WARN MemoryManager: Total allocation exceeds 95.00% (1,020,054,720 bytes) of heap memory\n",
      "Scaling row group sizes to 54.29% for 14 writers\n",
      "25/04/02 19:36:33 WARN MemoryManager: Total allocation exceeds 95.00% (1,020,054,720 bytes) of heap memory\n",
      "Scaling row group sizes to 50.67% for 15 writers\n",
      "25/04/02 19:36:33 WARN MemoryManager: Total allocation exceeds 95.00% (1,020,054,720 bytes) of heap memory\n",
      "Scaling row group sizes to 47.50% for 16 writers\n",
      "25/04/02 19:36:33 WARN MemoryManager: Total allocation exceeds 95.00% (1,020,054,720 bytes) of heap memory\n",
      "Scaling row group sizes to 44.71% for 17 writers\n",
      "25/04/02 19:36:33 WARN MemoryManager: Total allocation exceeds 95.00% (1,020,054,720 bytes) of heap memory\n",
      "Scaling row group sizes to 42.22% for 18 writers\n",
      "25/04/02 19:36:33 WARN MemoryManager: Total allocation exceeds 95.00% (1,020,054,720 bytes) of heap memory\n",
      "Scaling row group sizes to 40.00% for 19 writers\n",
      "25/04/02 19:36:33 WARN MemoryManager: Total allocation exceeds 95.00% (1,020,054,720 bytes) of heap memory\n",
      "Scaling row group sizes to 38.00% for 20 writers\n",
      "25/04/02 19:36:33 WARN MemoryManager: Total allocation exceeds 95.00% (1,020,054,720 bytes) of heap memory\n",
      "Scaling row group sizes to 40.00% for 19 writers\n",
      "25/04/02 19:36:33 WARN MemoryManager: Total allocation exceeds 95.00% (1,020,054,720 bytes) of heap memory\n",
      "Scaling row group sizes to 42.22% for 18 writers\n",
      "25/04/02 19:36:33 WARN MemoryManager: Total allocation exceeds 95.00% (1,020,054,720 bytes) of heap memory\n",
      "Scaling row group sizes to 44.71% for 17 writers\n",
      "25/04/02 19:36:33 WARN MemoryManager: Total allocation exceeds 95.00% (1,020,054,720 bytes) of heap memory\n",
      "Scaling row group sizes to 47.50% for 16 writers\n",
      "25/04/02 19:36:33 WARN MemoryManager: Total allocation exceeds 95.00% (1,020,054,720 bytes) of heap memory\n",
      "Scaling row group sizes to 50.67% for 15 writers\n",
      "25/04/02 19:36:33 WARN MemoryManager: Total allocation exceeds 95.00% (1,020,054,720 bytes) of heap memory\n",
      "Scaling row group sizes to 54.29% for 14 writers\n",
      "25/04/02 19:36:33 WARN MemoryManager: Total allocation exceeds 95.00% (1,020,054,720 bytes) of heap memory\n",
      "Scaling row group sizes to 58.46% for 13 writers\n",
      "25/04/02 19:36:33 WARN MemoryManager: Total allocation exceeds 95.00% (1,020,054,720 bytes) of heap memory\n",
      "Scaling row group sizes to 63.33% for 12 writers\n",
      "25/04/02 19:36:33 WARN MemoryManager: Total allocation exceeds 95.00% (1,020,054,720 bytes) of heap memory\n",
      "Scaling row group sizes to 69.09% for 11 writers\n",
      "25/04/02 19:36:33 WARN MemoryManager: Total allocation exceeds 95.00% (1,020,054,720 bytes) of heap memory\n",
      "Scaling row group sizes to 76.00% for 10 writers\n",
      "25/04/02 19:36:33 WARN MemoryManager: Total allocation exceeds 95.00% (1,020,054,720 bytes) of heap memory\n",
      "Scaling row group sizes to 84.44% for 9 writers\n",
      "25/04/02 19:36:33 WARN MemoryManager: Total allocation exceeds 95.00% (1,020,054,720 bytes) of heap memory\n",
      "Scaling row group sizes to 95.00% for 8 writers\n",
      "                                                                                \r"
     ]
    }
   ],
   "source": [
    "# Saving the table as a parquet file\n",
    "df_join \\\n",
    "    .write \\\n",
    "    .parquet(\"../datasets/report/revenue/total\", mode='overwrite')"
   ]
  },
  {
   "cell_type": "code",
   "execution_count": 42,
   "metadata": {},
   "outputs": [
    {
     "name": "stdout",
     "output_type": "stream",
     "text": [
      "+-------------------+----+------------------+--------------------+------------------+---------------------+\n",
      "|               hour|zone|      green_amount|green_number_records|     yellow_amount|yellow_number_records|\n",
      "+-------------------+----+------------------+--------------------+------------------+---------------------+\n",
      "|2020-01-01 00:00:00|  22|              15.8|                   1|              null|                 null|\n",
      "|2020-01-01 00:00:00|  38| 98.78999999999999|                   2|              null|                 null|\n",
      "|2020-01-01 00:00:00|  72|             67.53|                   2|              null|                 null|\n",
      "|2020-01-01 00:00:00| 114|              null|                null| 6256.430000000006|                  333|\n",
      "|2020-01-01 00:00:00| 116|328.76000000000005|                  18| 561.5100000000001|                   34|\n",
      "|2020-01-01 00:00:00| 132|              null|                null| 6786.390000000004|                  139|\n",
      "|2020-01-01 00:00:00| 136|            111.68|                   2|             168.0|                    4|\n",
      "|2020-01-01 00:00:00| 142|              null|                null|  9252.30000000002|                  488|\n",
      "|2020-01-01 00:00:00| 143|             55.95|                   2| 2142.059999999999|                  128|\n",
      "|2020-01-01 00:00:00| 151|              null|                null|2536.9599999999978|                  148|\n",
      "|2020-01-01 00:00:00| 192|              12.3|                   1|              null|                 null|\n",
      "|2020-01-01 00:00:00| 215| 546.3600000000001|                  18|             36.11|                    1|\n",
      "|2020-01-01 00:00:00| 249|              null|                null| 7790.170000000013|                  422|\n",
      "|2020-01-01 00:00:00| 258|              45.3|                   1|              null|                 null|\n",
      "|2020-01-01 00:00:00| 265|              null|                null|           1041.52|                   15|\n",
      "|2020-01-01 01:00:00|  65|            246.86|                  16| 647.4300000000001|                   31|\n",
      "|2020-01-01 01:00:00|  80|215.94999999999996|                  10|            994.61|                   46|\n",
      "|2020-01-01 01:00:00| 183|              27.0|                   1|             24.21|                    1|\n",
      "|2020-01-01 01:00:00| 188|            181.03|                   7|            115.81|                    5|\n",
      "|2020-01-01 01:00:00| 213|             44.91|                   2|              null|                 null|\n",
      "+-------------------+----+------------------+--------------------+------------------+---------------------+\n",
      "only showing top 20 rows\n",
      "\n"
     ]
    }
   ],
   "source": [
    "# Read the saved parquet file in folder 'total'\n",
    "df_join = spark.read.parquet('../datasets/report/revenue/total/')\n",
    "df_join.show()"
   ]
  }
 ],
 "metadata": {
  "kernelspec": {
   "display_name": "Python 3",
   "language": "python",
   "name": "python3"
  },
  "language_info": {
   "codemirror_mode": {
    "name": "ipython",
    "version": 3
   },
   "file_extension": ".py",
   "mimetype": "text/x-python",
   "name": "python",
   "nbconvert_exporter": "python",
   "pygments_lexer": "ipython3",
   "version": "3.9.21"
  }
 },
 "nbformat": 4,
 "nbformat_minor": 2
}
