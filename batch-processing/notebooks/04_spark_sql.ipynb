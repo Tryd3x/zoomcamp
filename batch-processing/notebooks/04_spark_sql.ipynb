{
 "cells": [
  {
   "cell_type": "code",
   "execution_count": 22,
   "metadata": {},
   "outputs": [
    {
     "data": {
      "text/html": [
       "\n",
       "            <div>\n",
       "                <p><b>SparkSession - in-memory</b></p>\n",
       "                \n",
       "        <div>\n",
       "            <p><b>SparkContext</b></p>\n",
       "\n",
       "            <p><a href=\"http://10.255.255.254:4040\">Spark UI</a></p>\n",
       "\n",
       "            <dl>\n",
       "              <dt>Version</dt>\n",
       "                <dd><code>v3.4.3</code></dd>\n",
       "              <dt>Master</dt>\n",
       "                <dd><code>local[*]</code></dd>\n",
       "              <dt>AppName</dt>\n",
       "                <dd><code>test</code></dd>\n",
       "            </dl>\n",
       "        </div>\n",
       "        \n",
       "            </div>\n",
       "        "
      ],
      "text/plain": [
       "<pyspark.sql.session.SparkSession at 0x7fd92c062520>"
      ]
     },
     "execution_count": 22,
     "metadata": {},
     "output_type": "execute_result"
    }
   ],
   "source": [
    "from pyspark.sql import SparkSession, functions as F\n",
    "\n",
    "spark = SparkSession.builder \\\n",
    "    .master(\"local[*]\") \\\n",
    "    .appName(\"test\") \\\n",
    "    .getOrCreate()\n",
    "\n",
    "spark"
   ]
  },
  {
   "cell_type": "code",
   "execution_count": 3,
   "metadata": {},
   "outputs": [
    {
     "name": "stdout",
     "output_type": "stream",
     "text": [
      "root\n",
      " |-- VendorID: long (nullable = true)\n",
      " |-- lpep_pickup_datetime: timestamp_ntz (nullable = true)\n",
      " |-- lpep_dropoff_datetime: timestamp_ntz (nullable = true)\n",
      " |-- store_and_fwd_flag: string (nullable = true)\n",
      " |-- RatecodeID: double (nullable = true)\n",
      " |-- PULocationID: long (nullable = true)\n",
      " |-- DOLocationID: long (nullable = true)\n",
      " |-- passenger_count: double (nullable = true)\n",
      " |-- trip_distance: double (nullable = true)\n",
      " |-- fare_amount: double (nullable = true)\n",
      " |-- extra: double (nullable = true)\n",
      " |-- mta_tax: double (nullable = true)\n",
      " |-- tip_amount: double (nullable = true)\n",
      " |-- tolls_amount: double (nullable = true)\n",
      " |-- ehail_fee: integer (nullable = true)\n",
      " |-- improvement_surcharge: double (nullable = true)\n",
      " |-- total_amount: double (nullable = true)\n",
      " |-- payment_type: double (nullable = true)\n",
      " |-- trip_type: double (nullable = true)\n",
      " |-- congestion_surcharge: double (nullable = true)\n",
      "\n"
     ]
    }
   ],
   "source": [
    "# Spark reads subfolders so you can pass `/*/*` which is trying to read all years and months of the folders\n",
    "df_green = spark.read.parquet(\"../datasets/pq/green/*/*\")\n",
    "df_green.printSchema()"
   ]
  },
  {
   "cell_type": "code",
   "execution_count": null,
   "metadata": {},
   "outputs": [
    {
     "name": "stdout",
     "output_type": "stream",
     "text": [
      "root\n",
      " |-- VendorID: long (nullable = true)\n",
      " |-- pickup_datetime: timestamp_ntz (nullable = true)\n",
      " |-- dropoff_datetime: timestamp_ntz (nullable = true)\n",
      " |-- store_and_fwd_flag: string (nullable = true)\n",
      " |-- RatecodeID: double (nullable = true)\n",
      " |-- PULocationID: long (nullable = true)\n",
      " |-- DOLocationID: long (nullable = true)\n",
      " |-- passenger_count: double (nullable = true)\n",
      " |-- trip_distance: double (nullable = true)\n",
      " |-- fare_amount: double (nullable = true)\n",
      " |-- extra: double (nullable = true)\n",
      " |-- mta_tax: double (nullable = true)\n",
      " |-- tip_amount: double (nullable = true)\n",
      " |-- tolls_amount: double (nullable = true)\n",
      " |-- ehail_fee: integer (nullable = true)\n",
      " |-- improvement_surcharge: double (nullable = true)\n",
      " |-- total_amount: double (nullable = true)\n",
      " |-- payment_type: double (nullable = true)\n",
      " |-- trip_type: double (nullable = true)\n",
      " |-- congestion_surcharge: double (nullable = true)\n",
      "\n"
     ]
    }
   ],
   "source": [
    "# Rename df_green columns\n",
    "df_green = df_green \\\n",
    "    .withColumnRenamed(\"lpep_pickup_datetime\", \"pickup_datetime\") \\\n",
    "    .withColumnRenamed(\"lpep_dropoff_datetime\", \"dropoff_datetime\")\n",
    "df_green.printSchema()"
   ]
  },
  {
   "cell_type": "code",
   "execution_count": 5,
   "metadata": {},
   "outputs": [
    {
     "name": "stdout",
     "output_type": "stream",
     "text": [
      "root\n",
      " |-- VendorID: long (nullable = true)\n",
      " |-- tpep_pickup_datetime: timestamp_ntz (nullable = true)\n",
      " |-- tpep_dropoff_datetime: timestamp_ntz (nullable = true)\n",
      " |-- passenger_count: double (nullable = true)\n",
      " |-- trip_distance: double (nullable = true)\n",
      " |-- RatecodeID: double (nullable = true)\n",
      " |-- store_and_fwd_flag: string (nullable = true)\n",
      " |-- PULocationID: long (nullable = true)\n",
      " |-- DOLocationID: long (nullable = true)\n",
      " |-- payment_type: long (nullable = true)\n",
      " |-- fare_amount: double (nullable = true)\n",
      " |-- extra: double (nullable = true)\n",
      " |-- mta_tax: double (nullable = true)\n",
      " |-- tip_amount: double (nullable = true)\n",
      " |-- tolls_amount: double (nullable = true)\n",
      " |-- improvement_surcharge: double (nullable = true)\n",
      " |-- total_amount: double (nullable = true)\n",
      " |-- congestion_surcharge: double (nullable = true)\n",
      " |-- airport_fee: integer (nullable = true)\n",
      "\n"
     ]
    }
   ],
   "source": [
    "df_yellow = spark.read.parquet(\"../datasets/pq/yellow/*/*\")\n",
    "df_yellow.printSchema()"
   ]
  },
  {
   "cell_type": "code",
   "execution_count": 14,
   "metadata": {},
   "outputs": [
    {
     "name": "stdout",
     "output_type": "stream",
     "text": [
      "root\n",
      " |-- VendorID: long (nullable = true)\n",
      " |-- pickup_datetime: timestamp_ntz (nullable = true)\n",
      " |-- dropoff_datetime: timestamp_ntz (nullable = true)\n",
      " |-- passenger_count: double (nullable = true)\n",
      " |-- trip_distance: double (nullable = true)\n",
      " |-- RatecodeID: double (nullable = true)\n",
      " |-- store_and_fwd_flag: string (nullable = true)\n",
      " |-- PULocationID: long (nullable = true)\n",
      " |-- DOLocationID: long (nullable = true)\n",
      " |-- payment_type: long (nullable = true)\n",
      " |-- fare_amount: double (nullable = true)\n",
      " |-- extra: double (nullable = true)\n",
      " |-- mta_tax: double (nullable = true)\n",
      " |-- tip_amount: double (nullable = true)\n",
      " |-- tolls_amount: double (nullable = true)\n",
      " |-- improvement_surcharge: double (nullable = true)\n",
      " |-- total_amount: double (nullable = true)\n",
      " |-- congestion_surcharge: double (nullable = true)\n",
      " |-- airport_fee: integer (nullable = true)\n",
      "\n"
     ]
    }
   ],
   "source": [
    "# Rename df_yellow columns\n",
    "df_yellow = df_yellow \\\n",
    "    .withColumnRenamed(\"tpep_pickup_datetime\", \"pickup_datetime\") \\\n",
    "    .withColumnRenamed(\"tpep_dropoff_datetime\", \"dropoff_datetime\")\n",
    "df_yellow.printSchema()"
   ]
  },
  {
   "cell_type": "code",
   "execution_count": 26,
   "metadata": {},
   "outputs": [
    {
     "data": {
      "text/plain": [
       "{'DOLocationID',\n",
       " 'PULocationID',\n",
       " 'RatecodeID',\n",
       " 'VendorID',\n",
       " 'congestion_surcharge',\n",
       " 'dropoff_datetime',\n",
       " 'extra',\n",
       " 'fare_amount',\n",
       " 'improvement_surcharge',\n",
       " 'mta_tax',\n",
       " 'passenger_count',\n",
       " 'payment_type',\n",
       " 'pickup_datetime',\n",
       " 'store_and_fwd_flag',\n",
       " 'tip_amount',\n",
       " 'tolls_amount',\n",
       " 'total_amount',\n",
       " 'trip_distance'}"
      ]
     },
     "execution_count": 26,
     "metadata": {},
     "output_type": "execute_result"
    }
   ],
   "source": [
    "# Find common attributes in both yellow and green (Unordered)\n",
    "\n",
    "common_columns = set(df_green.columns).intersection(set(df_yellow.columns)) \n",
    "# common_col = set(df_green.columns) & set(df_yellow.columns)\n",
    "common_columns"
   ]
  },
  {
   "cell_type": "code",
   "execution_count": 27,
   "metadata": {},
   "outputs": [
    {
     "data": {
      "text/plain": [
       "['VendorID',\n",
       " 'pickup_datetime',\n",
       " 'dropoff_datetime',\n",
       " 'store_and_fwd_flag',\n",
       " 'RatecodeID',\n",
       " 'PULocationID',\n",
       " 'DOLocationID',\n",
       " 'passenger_count',\n",
       " 'trip_distance',\n",
       " 'fare_amount',\n",
       " 'extra',\n",
       " 'mta_tax',\n",
       " 'tip_amount',\n",
       " 'tolls_amount',\n",
       " 'improvement_surcharge',\n",
       " 'total_amount',\n",
       " 'payment_type',\n",
       " 'congestion_surcharge']"
      ]
     },
     "execution_count": 27,
     "metadata": {},
     "output_type": "execute_result"
    }
   ],
   "source": [
    "# Find common attributes  in both yellow and green (Ordered)\n",
    "common_columns = []\n",
    "\n",
    "yellow_columns = set(df_yellow.columns)\n",
    "\n",
    "for col in df_green.columns:\n",
    "    if col in yellow_columns:\n",
    "        common_columns.append(col)\n",
    "\n",
    "common_columns"
   ]
  },
  {
   "cell_type": "code",
   "execution_count": 34,
   "metadata": {},
   "outputs": [],
   "source": [
    "# Since we are merging two df, we would like to know where each record originates from, so we create a column for it\n",
    "\n",
    "df_green_sel = df_green \\\n",
    "    .select(common_columns) \\\n",
    "    .withColumn(\"service_type\", F.lit('green'))"
   ]
  },
  {
   "cell_type": "code",
   "execution_count": 35,
   "metadata": {},
   "outputs": [],
   "source": [
    "df_yellow_sel = df_yellow \\\n",
    "    .select(common_columns) \\\n",
    "    .withColumn(\"service_type\", F.lit('yellow'))"
   ]
  },
  {
   "cell_type": "code",
   "execution_count": 43,
   "metadata": {},
   "outputs": [
    {
     "name": "stdout",
     "output_type": "stream",
     "text": [
      "+--------+-------------------+-------------------+------------------+----------+------------+------------+---------------+-------------+-----------+-----+-------+----------+------------+---------------------+------------+------------+--------------------+------------+\n",
      "|VendorID|    pickup_datetime|   dropoff_datetime|store_and_fwd_flag|RatecodeID|PULocationID|DOLocationID|passenger_count|trip_distance|fare_amount|extra|mta_tax|tip_amount|tolls_amount|improvement_surcharge|total_amount|payment_type|congestion_surcharge|service_type|\n",
      "+--------+-------------------+-------------------+------------------+----------+------------+------------+---------------+-------------+-----------+-----+-------+----------+------------+---------------------+------------+------------+--------------------+------------+\n",
      "|       2|2020-01-11 04:05:54|2020-01-11 04:13:49|                 N|       1.0|         129|         129|            1.0|         0.81|        6.5|  0.5|    0.5|      0.71|         0.0|                  0.3|        8.51|         1.0|                 0.0|       green|\n",
      "|       2|2020-01-07 19:34:40|2020-01-07 19:43:01|                 N|       1.0|          82|          56|            1.0|         1.25|        7.0|  1.0|    0.5|       0.0|         0.0|                  0.3|         8.8|         2.0|                 0.0|       green|\n",
      "|       2|2020-01-15 19:07:07|2020-01-15 19:12:56|                 N|       1.0|          75|          75|            1.0|         0.88|        5.5|  1.0|    0.5|      1.46|         0.0|                  0.3|        8.76|         1.0|                 0.0|       green|\n",
      "|       2|2020-01-27 17:26:04|2020-01-27 17:31:29|                 N|       1.0|         210|         108|            1.0|         1.52|        7.0|  1.0|    0.5|      2.64|         0.0|                  0.3|       11.44|         1.0|                 0.0|       green|\n",
      "|       2|2020-01-19 12:18:31|2020-01-19 12:23:29|                 N|       1.0|         129|         129|            1.0|         0.58|        5.0|  0.0|    0.5|       0.0|         0.0|                  0.3|         5.8|         2.0|                 0.0|       green|\n",
      "|       2|2020-01-22 19:43:11|2020-01-22 20:11:30|                 N|       1.0|          65|          48|            1.0|         5.27|       22.0|  1.0|    0.5|       0.0|         0.0|                  0.3|       26.55|         2.0|                2.75|       green|\n",
      "|       2|2020-01-07 13:39:00|2020-01-07 13:52:00|              null|      null|          82|          56|           null|         1.96|      15.89| 2.75|    0.0|       0.0|         0.0|                  0.3|       18.94|        null|                null|       green|\n",
      "|       2|2020-01-14 17:55:04|2020-01-14 18:06:56|                 N|       1.0|         260|         129|            6.0|         1.77|        9.5|  1.0|    0.5|       0.0|         0.0|                  0.3|        11.3|         2.0|                 0.0|       green|\n",
      "|       2|2020-01-24 08:16:00|2020-01-24 08:33:00|              null|      null|          59|         126|           null|         2.33|      20.33| 2.75|    0.5|       0.0|         0.0|                  0.0|       23.58|        null|                null|       green|\n",
      "|       1|2020-01-15 18:45:02|2020-01-15 19:03:00|                 N|       1.0|          97|          89|            2.0|          3.0|       13.5|  1.0|    0.5|       0.0|         0.0|                  0.3|        15.3|         2.0|                 0.0|       green|\n",
      "|       2|2020-01-15 13:06:00|2020-01-15 13:17:00|              null|      null|          39|          91|           null|         2.39|      23.79| 2.75|    0.0|       0.0|         0.0|                  0.3|       26.84|        null|                null|       green|\n",
      "|       2|2020-01-30 21:35:20|2020-01-30 21:55:14|                 N|       1.0|         255|         146|            1.0|         3.45|       15.5|  0.5|    0.5|       0.0|         0.0|                  0.3|        16.8|         2.0|                 0.0|       green|\n",
      "|       2|2020-01-16 00:41:52|2020-01-16 00:46:13|                 N|       1.0|         223|         223|            1.0|         0.62|        4.5|  0.5|    0.5|      0.87|         0.0|                  0.3|        6.67|         1.0|                 0.0|       green|\n",
      "|       2|2020-01-16 09:11:04|2020-01-16 09:37:50|                 N|       1.0|         166|          43|            1.0|         4.13|       19.5|  0.0|    0.5|       5.0|         0.0|                  0.3|       28.05|         1.0|                2.75|       green|\n",
      "|       2|2020-01-25 17:03:38|2020-01-25 17:21:09|                 N|       1.0|          97|         188|            2.0|         3.08|       14.0|  0.0|    0.5|      4.44|         0.0|                  0.3|       19.24|         1.0|                 0.0|       green|\n",
      "|       2|2020-01-17 12:57:00|2020-01-17 13:12:00|              null|      null|         188|          89|           null|         2.17|      19.82| 2.75|    0.0|       0.0|         0.0|                  0.3|       22.87|        null|                null|       green|\n",
      "|       2|2020-01-27 19:53:27|2020-01-27 20:06:47|                 N|       1.0|          82|          83|            1.0|          0.0|        9.0|  1.0|    0.5|       0.0|         0.0|                  0.3|        10.8|         2.0|                 0.0|       green|\n",
      "|       2|2020-01-31 15:32:00|2020-01-31 16:09:00|              null|      null|          89|          89|           null|          8.5|      27.21| 2.75|    0.0|       0.0|         0.0|                  0.3|       30.26|        null|                null|       green|\n",
      "|       2|2020-01-13 08:16:07|2020-01-13 08:25:16|                 N|       1.0|          41|         151|            1.0|         1.06|        7.5|  0.0|    0.5|      0.83|         0.0|                  0.3|        9.13|         1.0|                 0.0|       green|\n",
      "|       2|2020-01-12 09:18:28|2020-01-12 09:27:50|                 N|       1.0|          49|          17|            1.0|         0.89|        7.5|  0.0|    0.5|       0.0|         0.0|                  0.3|         8.3|         1.0|                 0.0|       green|\n",
      "+--------+-------------------+-------------------+------------------+----------+------------+------------+---------------+-------------+-----------+-----+-------+----------+------------+---------------------+------------+------------+--------------------+------------+\n",
      "only showing top 20 rows\n",
      "\n"
     ]
    }
   ],
   "source": [
    "# Merging both dataframes\n",
    "\n",
    "df_trips_data = df_green_sel.unionAll(df_yellow_sel)\n",
    "df_trips_data.show()"
   ]
  },
  {
   "cell_type": "code",
   "execution_count": 51,
   "metadata": {},
   "outputs": [
    {
     "name": "stdout",
     "output_type": "stream",
     "text": [
      "+------------+--------+\n",
      "|service_type|   count|\n",
      "+------------+--------+\n",
      "|       green| 2802931|\n",
      "|      yellow|55553400|\n",
      "+------------+--------+\n",
      "\n"
     ]
    }
   ],
   "source": [
    "# Performing count aggregation using groupby\n",
    "df_trips_data.groupBy('service_type').count().show()"
   ]
  },
  {
   "cell_type": "code",
   "execution_count": null,
   "metadata": {},
   "outputs": [],
   "source": [
    "# In order to perform sql on dataframes, register the datafram as view\n",
    "df_trips_data.createOrReplaceTempView('trips_data')"
   ]
  },
  {
   "cell_type": "code",
   "execution_count": null,
   "metadata": {},
   "outputs": [
    {
     "name": "stdout",
     "output_type": "stream",
     "text": [
      "+------------+--------+\n",
      "|service_type|     cnt|\n",
      "+------------+--------+\n",
      "|       green| 2802931|\n",
      "|      yellow|55553400|\n",
      "+------------+--------+\n",
      "\n"
     ]
    }
   ],
   "source": [
    "# Using sql in spark\n",
    "spark.sql(\n",
    "\"\"\"\n",
    "SELECT \n",
    "    service_type\n",
    "    , count(*) as cnt\n",
    "FROM \n",
    "    trips_data\n",
    "GROUP BY\n",
    "    service_type\n",
    "\"\"\").show()"
   ]
  },
  {
   "cell_type": "code",
   "execution_count": 60,
   "metadata": {},
   "outputs": [
    {
     "name": "stderr",
     "output_type": "stream",
     "text": [
      "[Stage 30:===================================================>    (37 + 3) / 40]\r"
     ]
    },
    {
     "name": "stdout",
     "output_type": "stream",
     "text": [
      "+------------+-------------------+------------+--------------------+---------------------+-----------------------+--------------------------+----------------------------+-------------------------------------+----------------------------+------------------------------------+---------------------------+-------------------------+\n",
      "|revenue_zone|      revenue_month|service_type|revenue_monthly_fare|revenue_monthly_extra|revenue_monthly_mta_tax|revenue_monthly_tip_amount|revenue_monthly_tolls_amount|revenue_monthly_improvement_surcharge|revenue_monthly_total_amount|revenue_monthly_congestion_surcharge|avg_monthly_passenger_count|avg_monthly_trip_distance|\n",
      "+------------+-------------------+------------+--------------------+---------------------+-----------------------+--------------------------+----------------------------+-------------------------------------+----------------------------+------------------------------------+---------------------------+-------------------------+\n",
      "|         225|2020-01-01 00:00:00|       green|  54163.140000000065|               3779.0|                  573.0|        299.32000000000005|           786.1500000000004|                    662.0999999999909|            60424.1100000003|                                49.5|         1.1127596439169138|        4.172635719905578|\n",
      "|          76|2020-01-01 00:00:00|       green|   76582.01999999922|              5334.75|                  669.5|                    265.74|          1635.5899999999908|                    803.3999999999695|            85300.7500000006|                                 0.0|         1.1676737160120847|        5.418012105766171|\n",
      "|         256|2020-02-01 00:00:00|       green|  21809.000000000022|              1122.75|                  649.0|         2527.500000000004|           219.5900000000001|                    423.3000000000103|          27624.239999999663|                              1006.5|         1.2570128885519334|        3.570403618649965|\n",
      "|          80|2020-01-01 00:00:00|       green|   40295.91000000001|              1360.25|                  736.5|         4232.540000000003|           628.6800000000002|                    566.4000000000054|           48939.58000000052|                              1193.5|          1.448907265209687|       4.1010962301587295|\n",
      "|         231|2020-01-01 00:00:00|       green|  10149.399999999998|                561.0|                   29.0|                       0.0|           266.1900000000001|                    75.89999999999964|          11081.489999999985|                                 0.0|                       1.25|       10.455494071146255|\n",
      "|         193|2009-01-01 00:00:00|       green|                 8.0|                  1.0|                    1.5|                      0.95|                         0.0|                   0.8999999999999999|          12.350000000000001|                                 0.0|                        1.0|                      0.0|\n",
      "|         189|2020-01-01 00:00:00|       green|            15087.64|               919.75|                  341.0|         1094.799999999999|           47.67999999999999|                    273.6000000000046|          18119.119999999908|                              173.25|         1.2066115702479339|       3.1141390041493815|\n",
      "|          91|2020-01-01 00:00:00|       green|  41229.009999999864|               2911.5|                  305.5|                     54.37|           999.2300000000004|                   408.90000000000975|          45915.410000000025|                                 0.0|         1.0936170212765957|        5.547146386658432|\n",
      "|          52|2020-01-01 00:00:00|       green|   46907.99000000004|              1668.25|                 1977.5|         6841.999999999997|           379.8000000000002|                   1213.1999999999075|           60459.79000000181|                             1559.25|         1.2418200408997955|       2.5785287637698886|\n",
      "|         114|2020-01-01 00:00:00|       green|   492.4099999999999|                 38.5|                    1.5|                       0.0|                       18.36|                    5.699999999999998|                      556.47|                                null|                       null|        6.400526315789473|\n",
      "|         167|2020-01-01 00:00:00|       green|  17975.339999999993|               1192.0|                  188.5|                     50.07|           690.8400000000004|                    234.9000000000032|          20337.149999999932|                                11.0|         1.1871345029239766|        4.491542792792794|\n",
      "|         115|2020-01-01 00:00:00|       green|  1960.1399999999999|                 29.0|                   14.0|                       0.0|           434.5200000000002|                   11.100000000000005|          2448.7599999999993|                                 0.0|                       1.52|       14.539487179487178|\n",
      "|          98|2020-01-01 00:00:00|       green|   5543.489999999994|                344.5|                   38.0|                      6.46|          109.64000000000001|                    60.89999999999978|          6110.4400000000005|                                 5.5|          1.173913043478261|        5.632169811320755|\n",
      "|         117|2020-01-01 00:00:00|       green|   41693.87999999997|              1584.25|                  122.0|                      6.29|          2525.0299999999834|                    270.9000000000045|                    46202.35|                                 0.0|                        1.3|       13.908786885245895|\n",
      "|          50|2020-01-01 00:00:00|       green|  1774.0600000000002|               123.75|                    4.5|                       0.0|           45.11999999999999|                    17.40000000000002|                     1964.83|                                 0.0|                        1.0|        7.711724137931037|\n",
      "|         197|2020-01-01 00:00:00|       green|   43522.35000000004|               1847.0|                  336.5|                    126.98|          2301.0599999999795|                    380.7000000000087|           48537.99000000017|                                16.5|         1.1779816513761467|        8.524692653673178|\n",
      "|          73|2020-01-01 00:00:00|       green|   4638.620000000001|                291.5|                   35.0|                     14.26|           91.80000000000001|                   48.599999999999895|           5122.530000000001|                                2.75|                        1.2|        5.339611111111115|\n",
      "|         211|2020-01-01 00:00:00|       green|  108.66000000000001|                 11.0|                   3.55|                       0.0|                         0.0|                                  1.2|                      124.41|                                2.75|                        1.0|        4.814000000000001|\n",
      "|         136|2020-01-01 00:00:00|       green|   26839.71000000002|               1675.5|                  215.0|         93.89999999999999|           692.2500000000003|                   273.90000000000464|          29808.709999999825|                                16.5|         1.1654411764705883|        5.947148325358843|\n",
      "|          28|2020-01-01 00:00:00|       green|   16996.97999999999|                933.0|                  140.5|        251.16000000000005|           318.9900000000001|                    187.8000000000014|          18853.079999999947|                                11.0|         1.3952569169960474|        5.508122270742362|\n",
      "+------------+-------------------+------------+--------------------+---------------------+-----------------------+--------------------------+----------------------------+-------------------------------------+----------------------------+------------------------------------+---------------------------+-------------------------+\n",
      "only showing top 20 rows\n",
      "\n"
     ]
    },
    {
     "name": "stderr",
     "output_type": "stream",
     "text": [
      "                                                                                \r"
     ]
    }
   ],
   "source": [
    "df_result = spark.sql(\"\"\"\n",
    "SELECT \n",
    "    -- Revenue grouping \n",
    "    PULocationID AS revenue_zone,\n",
    "    date_trunc('month', pickup_datetime) AS revenue_month, \n",
    "    service_type, \n",
    "\n",
    "    -- Revenue calculation \n",
    "    SUM(fare_amount) AS revenue_monthly_fare,\n",
    "    SUM(extra) AS revenue_monthly_extra,\n",
    "    SUM(mta_tax) AS revenue_monthly_mta_tax,\n",
    "    SUM(tip_amount) AS revenue_monthly_tip_amount,\n",
    "    SUM(tolls_amount) AS revenue_monthly_tolls_amount,\n",
    "    SUM(improvement_surcharge) AS revenue_monthly_improvement_surcharge,\n",
    "    SUM(total_amount) AS revenue_monthly_total_amount,\n",
    "    SUM(congestion_surcharge) AS revenue_monthly_congestion_surcharge,\n",
    "\n",
    "    -- Additional calculations\n",
    "    AVG(passenger_count) AS avg_monthly_passenger_count,\n",
    "    AVG(trip_distance) AS avg_monthly_trip_distance\n",
    "FROM\n",
    "    trips_data\n",
    "GROUP BY\n",
    "    1, 2, 3\n",
    "\"\"\")\n",
    "\n",
    "df_result.show()"
   ]
  },
  {
   "cell_type": "code",
   "execution_count": null,
   "metadata": {},
   "outputs": [
    {
     "name": "stderr",
     "output_type": "stream",
     "text": [
      "[Stage 36:=====================================================>  (38 + 2) / 40]\r"
     ]
    },
    {
     "data": {
      "text/plain": [
       "2"
      ]
     },
     "execution_count": 62,
     "metadata": {},
     "output_type": "execute_result"
    }
   ],
   "source": [
    "# Current partitions for df_result\n",
    "df_result.rdd.getNumPartitions()"
   ]
  },
  {
   "cell_type": "code",
   "execution_count": 63,
   "metadata": {},
   "outputs": [
    {
     "name": "stderr",
     "output_type": "stream",
     "text": [
      "                                                                                \r"
     ]
    }
   ],
   "source": [
    "# Reducing the # of partitions to 1 using colaesce (prevents shuffling)\n",
    "df_result.coalesce(1).write.parquet('../datasets/report/revenue/', mode='overwrite')"
   ]
  }
 ],
 "metadata": {
  "kernelspec": {
   "display_name": "Python 3",
   "language": "python",
   "name": "python3"
  },
  "language_info": {
   "codemirror_mode": {
    "name": "ipython",
    "version": 3
   },
   "file_extension": ".py",
   "mimetype": "text/x-python",
   "name": "python",
   "nbconvert_exporter": "python",
   "pygments_lexer": "ipython3",
   "version": "3.9.21"
  }
 },
 "nbformat": 4,
 "nbformat_minor": 2
}
